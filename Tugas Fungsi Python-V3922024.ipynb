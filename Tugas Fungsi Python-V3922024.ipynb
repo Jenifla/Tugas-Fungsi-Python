{
 "cells": [
  {
   "cell_type": "code",
   "execution_count": 2,
   "id": "ab82aca9",
   "metadata": {},
   "outputs": [
    {
     "name": "stdout",
     "output_type": "stream",
     "text": [
      "\n",
      "\n",
      "----------- MENU ----------\n",
      "[1] Hitung FPB\n",
      "[2] Hitung KPK\n",
      "[3] Lainnya\n",
      "PILIH MENU> 2\n",
      "\n",
      "\n",
      "Masukkan angka pertama: 18\n",
      "Masukkan angka kedua: 4\n",
      "KPK dari 18 dan 4 adalah 36\n"
     ]
    }
   ],
   "source": [
    "#fungsi untuk menghitung fpb\n",
    "def fpb(a, b):\n",
    "    if a < b:\n",
    "        bilkecil = a\n",
    "    else:\n",
    "        bilkecil = b\n",
    "    for i in range(1, bilkecil+1):\n",
    "        if a%i == 0 and b%i == 0:\n",
    "            fpb = i\n",
    "    return fpb\n",
    "\n",
    "#fungsi untuk menghitung kpk\n",
    "def kpk(a, b):\n",
    "    hfpb = fpb(a, b)\n",
    "    kpk = int(a * b / hfpb)\n",
    "    return kpk\n",
    "\n",
    "#fungsi untuk menampilkan menu\n",
    "def show_menu():\n",
    "    print(\"\\n\")\n",
    "    print(\"----------- MENU ----------\")\n",
    "    print(\"[1] Hitung FPB\")\n",
    "    print(\"[2] Hitung KPK\")\n",
    "    print(\"[3] Lainnya\")\n",
    "\n",
    "    menu = input(\"PILIH MENU> \")\n",
    "    print(\"\\n\")\n",
    "\n",
    "    #jika pengguna memilih menu 1 maka program akan memanggil fungsi fpb dan menampilakan hasil perhitungan fpb\n",
    "    if menu == \"1\": \n",
    "        a = int(input('Masukkan angka pertama: '))\n",
    "        b = int(input('Masukkan angka kedua: '))\n",
    "        hasil_fpb = fpb(a, b)\n",
    "        print('FPB dari', a, 'dan', b, 'adalah', hasil_fpb)\n",
    "    #jika pengguna memilih menu 2 maka program akan memanggil fungsi kpk dan menampilakan hasil perhitungan kpk\n",
    "    elif menu == \"2\":\n",
    "        a = int(input('Masukkan angka pertama: '))\n",
    "        b = int(input('Masukkan angka kedua: '))\n",
    "        hasil_kpk = kpk(a, b)\n",
    "        print('KPK dari', a, 'dan', b, 'adalah', hasil_kpk)\n",
    "    #jika pengguna memilih menu 3 maka program akan berhenti\n",
    "    elif menu == \"3\":\n",
    "        exit()\n",
    "    #jika menginputkan selain pilihan diatas maka akan menampilkan teks Salah pilih!\n",
    "    else:\n",
    "        print(\"Salah pilih!\")\n",
    "\n",
    "#pemanggilan fungsi show menu\n",
    "show_menu()"
   ]
  },
  {
   "cell_type": "code",
   "execution_count": null,
   "id": "5faaddc0",
   "metadata": {},
   "outputs": [],
   "source": []
  }
 ],
 "metadata": {
  "kernelspec": {
   "display_name": "Python 3 (ipykernel)",
   "language": "python",
   "name": "python3"
  },
  "language_info": {
   "codemirror_mode": {
    "name": "ipython",
    "version": 3
   },
   "file_extension": ".py",
   "mimetype": "text/x-python",
   "name": "python",
   "nbconvert_exporter": "python",
   "pygments_lexer": "ipython3",
   "version": "3.9.12"
  }
 },
 "nbformat": 4,
 "nbformat_minor": 5
}
